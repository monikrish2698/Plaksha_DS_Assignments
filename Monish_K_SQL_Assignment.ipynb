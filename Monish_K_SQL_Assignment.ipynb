{
 "cells": [
  {
   "cell_type": "markdown",
   "metadata": {},
   "source": [
    "<img src=\"https://raw.githubusercontent.com/afo/data-x-plaksha/master/imgsource/dx_logo.png\" align=\"left\"></img><br><br><br><br>"
   ]
  },
  {
   "cell_type": "markdown",
   "metadata": {},
   "source": [
    "## Plaksha SQL assignment"
   ]
  },
  {
   "cell_type": "markdown",
   "metadata": {},
   "source": [
    "---\n",
    "\n",
    "## Submission details:\n",
    "\n",
    "Please submit this as a Jupyter Notebook and a PDF of your results (both should show output). Also push your solutions to Github.\n",
    "\n",
    "For the submision create a local database with `sqlite3` or `sqlalchemy` in a Jupyter notebook and make the queries either with a cursor object (and then print the results) or by using pandas `pd.read_sql_query()`."
   ]
  },
  {
   "cell_type": "markdown",
   "metadata": {},
   "source": [
    "___\n",
    "\n",
    "When completing this homework you can experiment with SQL commands by utilizing this great online editor:\n",
    "\n",
    "https://www.w3schools.com/sql/trysql.asp?filename=trysql_select_all\n",
    "\n",
    "There are already some tables in the online Database, namely:\n",
    "\n",
    "`Categories, Employees, OrderDetails, Orders, Products, Shippers, and Suppliers.`\n",
    "\n",
    "If you want you can drop them by running  `DROP TABLE [table-name];` (or just keep them)."
   ]
  },
  {
   "cell_type": "markdown",
   "metadata": {},
   "source": [
    "___\n",
    "\n",
    "## Exercises:\n",
    "\n",
    "First create a table called students. It has the columns: 'student_id', 'name', 'major', 'gpa' and 'enrollment_date' We will use a new form of `CREATE TABLE` expression to produce this table.\n",
    "\n",
    "Note that you can improve this and are welcome to do so -- e.g. by specifying for example a PRIMARY KEY and a FOREIGN KEY in Q2 :)\n",
    "\n",
    "    CREATE TABLE students AS\n",
    "        SELECT 1 AS student_id, \"John\" AS name, \"Computer Science\" AS major, 3.5 AS gpa, \"01-01-2022\" AS enrollment_date UNION\n",
    "        SELECT 2, \"Jane\", \"Physics\", 3.8, \"01-02-2022\" UNION\n",
    "        SELECT 3, \"Bob\", \"Engineering\", 3.0, \"01-03-2022\" UNION\n",
    "        SELECT 4, \"Samantha\", \"Physics\", 3.9, \"01-04-2022\" UNION\n",
    "        SELECT 5, \"James\", \"Engineering\", 3.7, \"01-05-2022\" UNION\n",
    "        SELECT 6, \"Emily\", \"Computer Science\", 3.6, \"01-06-2022\" UNION\n",
    "        SELECT 7, \"Michael\", \"Computer Science\", 3.2, \"01-07-2022\" UNION\n",
    "        SELECT 8, \"Jessica\", \"Engineering\", 3.8, \"01-08-2022\" UNION\n",
    "        SELECT 9, \"Jacob\", \"Physics\", 3.4, \"01-09-2022\" UNION\n",
    "        SELECT 10, \"Ashley\", \"Physics\", 3.9, \"01-10-2022\";\n",
    "\n",
    "\n",
    "## Q1 Simple SELECTS (on the students table)\n",
    "1. SELECT all records in the table.\n",
    "2. SELECT students whose major is \"Computer Science\".\n",
    "3. SELECT all unique majors (use SELECT DISTINCT) and order them by name, descending order (i.e. Physics first).\n",
    "4. SELECT all students that have an 'e' in their name and order them by gpa in ascending order.\n",
    "\n",
    "\n",
    "## Q2 Joins\n",
    "\n",
    "Create a new table called courses, which indicates the courses taken by the students. \n",
    "\n",
    "Create the table by running:\n",
    "\t\n",
    "    CREATE TABLE courses AS\n",
    "        SELECT 1 AS course_id, \"Python programming\" AS course_name, 1 AS student_id, \"A\" AS grade UNION\n",
    "        SELECT 2, \"Data Structures\", 2, \"B\" UNION\n",
    "        SELECT 3, \"Database Systems\", 3, \"B\" UNION\n",
    "        SELECT 1, \"Python programming\", 4, \"A\" UNION\n",
    "        SELECT 4, \"Quantum Mechanics\", 5, \"C\" UNION\n",
    "        SELECT 1, \"Python programming\", 6, \"F\" UNION\n",
    "        SELECT 2, \"Data Structures\", 7, \"C\" UNION\n",
    "        SELECT 3, \"Database Systems\", 8, \"A\" UNION\n",
    "        SELECT 4, \"Quantum Mechanics\", 9, \"A\" UNION\n",
    "        SELECT 2, \"Data Structures\", 10, \"F\";\n",
    "\n",
    "1. COUNT the number of unique courses.\n",
    "2. JOIN the tables students and courses and COUNT the number of students with the major Computer Science taking the course Python programming.\n",
    "3. JOIN the tables students and courses and select the students who have grades higher than \"C\", only show their name, major, gpa, course_name and grade.\n",
    "\n",
    "\n",
    "## Q3 Aggregate functions, numerical logic and grouping\n",
    "\n",
    "1. Find the average gpa of all students.\n",
    "2. SELECT the student with the maximum gpa, display only their student_id, major and gpa\n",
    "3. SELECT the student with the minimum gpa, display only their student_id, major and gpa\n",
    "4. SELECT the students with a gpa greater than 3.6 in the majors of \"Physics\" and \"Engineering\", display only their student_id, major and gpa\n",
    "5. Group the students by their major and retrieve the average grade of each major.\n",
    "6. SELECT the top 2 students with the highest GPA in each major and order the results by major in ascending order, then by GPA in descending order"
   ]
  },
  {
   "cell_type": "markdown",
   "metadata": {},
   "source": [
    "# Your solution"
   ]
  },
  {
   "cell_type": "code",
   "execution_count": 96,
   "metadata": {},
   "outputs": [],
   "source": [
    "import sqlite3\n",
    "import pandas as pd"
   ]
  },
  {
   "cell_type": "code",
   "execution_count": 2,
   "metadata": {},
   "outputs": [],
   "source": [
    "# creating a new database here\n",
    "conn = sqlite3.connect(\"students.db\")\n",
    "cursor = conn.cursor()"
   ]
  },
  {
   "cell_type": "code",
   "execution_count": 9,
   "metadata": {},
   "outputs": [],
   "source": [
    "create_command = \"\"\"\n",
    "                 CREATE TABLE students (\n",
    "                 student_id INTEGER PRIMARY KEY,\n",
    "                 name VARCHAR(20),\n",
    "                 major VARCHAR(30),\n",
    "                 GPA FLOAT,\n",
    "                 enrollment_date DATE);\n",
    "                 \"\"\""
   ]
  },
  {
   "cell_type": "code",
   "execution_count": 10,
   "metadata": {},
   "outputs": [
    {
     "name": "stdout",
     "output_type": "stream",
     "text": [
      "Table created successfully!!\n"
     ]
    }
   ],
   "source": [
    "cursor.execute(create_command)\n",
    "print(\"Table created successfully!!\")\n",
    "conn.commit()"
   ]
  },
  {
   "cell_type": "code",
   "execution_count": 8,
   "metadata": {},
   "outputs": [],
   "source": [
    "# delete_command = \"\"\"\n",
    "#                  DROP TABLE students\n",
    "#                  \"\"\"\n",
    "# cursor.execute(delete_command)\n",
    "# conn.commit()"
   ]
  },
  {
   "cell_type": "code",
   "execution_count": 11,
   "metadata": {},
   "outputs": [],
   "source": [
    "students = [\n",
    "            (1, \"John\", \"Computer Science\", 3.5, \"01-01-2022\"),\n",
    "            (2, \"Jane\", \"Physics\", 3.8, \"01-02-2022\"),\n",
    "            (3, \"Bob\", \"Engineering\", 3.0, \"01-03-2022\"),\n",
    "            (4, \"Samantha\", \"Physics\", 3.9, \"01-04-2022\"),\n",
    "            (5, \"James\", \"Engineering\", 3.7, \"01-05-2022\"),\n",
    "            (6, \"Emily\", \"Computer Science\", 3.6, \"01-06-2022\"),\n",
    "            (7, \"Michael\", \"Computer Science\", 3.2, \"01-07-2022\"),\n",
    "            (8, \"Jessica\", \"Engineering\", 3.8, \"01-08-2022\"),\n",
    "            (9, \"Jacob\", \"Physics\", 3.4, \"01-09-2022\"),\n",
    "            (10, \"Ashley\", \"Physics\", 3.9, \"01-10-2022\"),\n",
    "           ]"
   ]
  },
  {
   "cell_type": "code",
   "execution_count": 12,
   "metadata": {},
   "outputs": [
    {
     "name": "stdout",
     "output_type": "stream",
     "text": [
      "Data inserted successfully!!\n"
     ]
    }
   ],
   "source": [
    "cursor.executemany(\"INSERT INTO students VALUES (?, ?, ?, ?, ?)\", students)\n",
    "print(\"Data inserted successfully!!\")\n",
    "conn.commit()"
   ]
  },
  {
   "cell_type": "code",
   "execution_count": 23,
   "metadata": {},
   "outputs": [
    {
     "data": {
      "text/plain": [
       "[(2, 'Jane', 'Physics', 3.8, '01-02-2022'),\n",
       " (5, 'James', 'Engineering', 3.7, '01-05-2022'),\n",
       " (6, 'Emily', 'Computer Science', 3.6, '01-06-2022'),\n",
       " (7, 'Michael', 'Computer Science', 3.2, '01-07-2022'),\n",
       " (8, 'Jessica', 'Engineering', 3.8, '01-08-2022'),\n",
       " (10, 'Ashley', 'Physics', 3.9, '01-10-2022')]"
      ]
     },
     "execution_count": 23,
     "metadata": {},
     "output_type": "execute_result"
    }
   ],
   "source": [
    "cursor.execute(\"\"\"SELECT *\n",
    "                  FROM students\n",
    "                  WHERE name LIKE '%e%'\"\"\").fetchall()"
   ]
  },
  {
   "cell_type": "markdown",
   "metadata": {},
   "source": [
    "## Q1 Simple SELECTS (on the students table)"
   ]
  },
  {
   "cell_type": "code",
   "execution_count": 24,
   "metadata": {},
   "outputs": [],
   "source": [
    "cmd1 = \"\"\"\n",
    "        SELECT * FROM students\n",
    "       \"\"\"\n",
    "cmd2 = \"\"\"\n",
    "        SELECT * FROM students\n",
    "        WHERE major = 'Computer Science'\n",
    "       \"\"\"\n",
    "cmd3 = \"\"\"SELECT DISTINCT(major) AS unique_major\n",
    "          FROM students\n",
    "          ORDER BY major DESC\"\"\"\n",
    "cmd4 = \"\"\"SELECT *\n",
    "          FROM students\n",
    "          WHERE name LIKE '%e%'\"\"\""
   ]
  },
  {
   "cell_type": "code",
   "execution_count": 119,
   "metadata": {},
   "outputs": [
    {
     "name": "stdout",
     "output_type": "stream",
     "text": [
      "SELECT all records in the table.\n",
      "   student_id      name             major  GPA enrollment_date\n",
      "0           1      John  Computer Science  3.5      01-01-2022\n",
      "1           2      Jane           Physics  3.8      01-02-2022\n",
      "2           3       Bob       Engineering  3.0      01-03-2022\n",
      "3           4  Samantha           Physics  3.9      01-04-2022\n",
      "4           5     James       Engineering  3.7      01-05-2022\n",
      "5           6     Emily  Computer Science  3.6      01-06-2022\n",
      "6           7   Michael  Computer Science  3.2      01-07-2022\n",
      "7           8   Jessica       Engineering  3.8      01-08-2022\n",
      "8           9     Jacob           Physics  3.4      01-09-2022\n",
      "9          10    Ashley           Physics  3.9      01-10-2022\n",
      "\n",
      "\n",
      "SELECT students whose major is Computer Science.\n",
      "   student_id     name             major  GPA enrollment_date\n",
      "0           1     John  Computer Science  3.5      01-01-2022\n",
      "1           6    Emily  Computer Science  3.6      01-06-2022\n",
      "2           7  Michael  Computer Science  3.2      01-07-2022\n",
      "\n",
      "\n",
      "SELECT unique majors\n",
      "       unique_major\n",
      "0           Physics\n",
      "1       Engineering\n",
      "2  Computer Science\n",
      "\n",
      "\n",
      "SELECT all students with letter e in their name\n",
      "   student_id     name             major  GPA enrollment_date\n",
      "0           2     Jane           Physics  3.8      01-02-2022\n",
      "1           5    James       Engineering  3.7      01-05-2022\n",
      "2           6    Emily  Computer Science  3.6      01-06-2022\n",
      "3           7  Michael  Computer Science  3.2      01-07-2022\n",
      "4           8  Jessica       Engineering  3.8      01-08-2022\n",
      "5          10   Ashley           Physics  3.9      01-10-2022\n"
     ]
    }
   ],
   "source": [
    "print(\"SELECT all records in the table.\")\n",
    "print(pd.read_sql_query(cmd1, conn))\n",
    "print(\"\\n\")\n",
    "\n",
    "print(\"SELECT students whose major is Computer Science.\")\n",
    "print(pd.read_sql_query(cmd2, conn))\n",
    "print(\"\\n\")\n",
    "\n",
    "print(\"SELECT unique majors\")\n",
    "print(pd.read_sql_query(cmd3, conn))\n",
    "print(\"\\n\")\n",
    "\n",
    "print(\"SELECT all students with letter e in their name\")\n",
    "print(pd.read_sql_query(cmd4, conn))"
   ]
  },
  {
   "cell_type": "code",
   "execution_count": null,
   "metadata": {},
   "outputs": [],
   "source": []
  },
  {
   "cell_type": "code",
   "execution_count": null,
   "metadata": {},
   "outputs": [],
   "source": []
  },
  {
   "cell_type": "code",
   "execution_count": 64,
   "metadata": {},
   "outputs": [],
   "source": [
    "course_create_command = \"\"\"\n",
    "                        CREATE TABLE courses (\n",
    "                        course_id INTEGER,\n",
    "                        course_name VARCHAR(20),\n",
    "                        student_id VARCHAR(20),\n",
    "                        grade VARCHAR(1),\n",
    "                        FOREIGN KEY (student_id) REFERENCES students(student_id));\n",
    "                        \"\"\""
   ]
  },
  {
   "cell_type": "code",
   "execution_count": 65,
   "metadata": {},
   "outputs": [
    {
     "name": "stdout",
     "output_type": "stream",
     "text": [
      "Table created successfully!!\n"
     ]
    }
   ],
   "source": [
    "cursor.execute(course_create_command)\n",
    "print(\"Table created successfully!!\")\n",
    "conn.commit()"
   ]
  },
  {
   "cell_type": "code",
   "execution_count": 66,
   "metadata": {},
   "outputs": [],
   "source": [
    "courses = [\n",
    "            (1, \"Python Programming\", 1, \"A\"),\n",
    "            (2, \"Data Structures\", 2, \"B\"),\n",
    "            (3, \"Database Systems\", 3, \"B\"),\n",
    "            (1, \"Python Programming\", 4, \"A\"),\n",
    "            (4, \"Quantum Mechanics\", 5, \"C\"),\n",
    "            (1, \"Python Programming\", 6, \"F\"),\n",
    "            (2, \"Data Structures\", 7, \"C\"),\n",
    "            (3, \"Database Systems\", 8, \"A\"),\n",
    "            (4, \"Quantum Mechanics\", 9, \"A\"),\n",
    "            (2, \"Data Structures\", 10, \"F\")\n",
    "          ]"
   ]
  },
  {
   "cell_type": "code",
   "execution_count": 67,
   "metadata": {},
   "outputs": [
    {
     "name": "stdout",
     "output_type": "stream",
     "text": [
      "Data inserted successfully!!\n"
     ]
    }
   ],
   "source": [
    "cursor.executemany(\"INSERT INTO courses VALUES (?, ?, ?, ?)\", courses)\n",
    "print(\"Data inserted successfully!!\")\n",
    "conn.commit()"
   ]
  },
  {
   "cell_type": "markdown",
   "metadata": {},
   "source": [
    "## Q2 Joins"
   ]
  },
  {
   "cell_type": "code",
   "execution_count": 116,
   "metadata": {},
   "outputs": [
    {
     "data": {
      "text/html": [
       "<div>\n",
       "<style scoped>\n",
       "    .dataframe tbody tr th:only-of-type {\n",
       "        vertical-align: middle;\n",
       "    }\n",
       "\n",
       "    .dataframe tbody tr th {\n",
       "        vertical-align: top;\n",
       "    }\n",
       "\n",
       "    .dataframe thead th {\n",
       "        text-align: right;\n",
       "    }\n",
       "</style>\n",
       "<table border=\"1\" class=\"dataframe\">\n",
       "  <thead>\n",
       "    <tr style=\"text-align: right;\">\n",
       "      <th></th>\n",
       "      <th>unique_courses</th>\n",
       "    </tr>\n",
       "  </thead>\n",
       "  <tbody>\n",
       "    <tr>\n",
       "      <th>0</th>\n",
       "      <td>4</td>\n",
       "    </tr>\n",
       "  </tbody>\n",
       "</table>\n",
       "</div>"
      ],
      "text/plain": [
       "   unique_courses\n",
       "0               4"
      ]
     },
     "execution_count": 116,
     "metadata": {},
     "output_type": "execute_result"
    }
   ],
   "source": [
    "# 1. COUNT the number of unique courses.\n",
    "\n",
    "pd.read_sql_query(\"\"\" \n",
    "    SELECT COUNT(DISTINCT(course_id)) AS unique_courses\n",
    "    FROM courses\n",
    "\"\"\", conn)"
   ]
  },
  {
   "cell_type": "code",
   "execution_count": 111,
   "metadata": {},
   "outputs": [
    {
     "data": {
      "text/html": [
       "<div>\n",
       "<style scoped>\n",
       "    .dataframe tbody tr th:only-of-type {\n",
       "        vertical-align: middle;\n",
       "    }\n",
       "\n",
       "    .dataframe tbody tr th {\n",
       "        vertical-align: top;\n",
       "    }\n",
       "\n",
       "    .dataframe thead th {\n",
       "        text-align: right;\n",
       "    }\n",
       "</style>\n",
       "<table border=\"1\" class=\"dataframe\">\n",
       "  <thead>\n",
       "    <tr style=\"text-align: right;\">\n",
       "      <th></th>\n",
       "      <th>count_students</th>\n",
       "    </tr>\n",
       "  </thead>\n",
       "  <tbody>\n",
       "    <tr>\n",
       "      <th>0</th>\n",
       "      <td>2</td>\n",
       "    </tr>\n",
       "  </tbody>\n",
       "</table>\n",
       "</div>"
      ],
      "text/plain": [
       "   count_students\n",
       "0               2"
      ]
     },
     "execution_count": 111,
     "metadata": {},
     "output_type": "execute_result"
    }
   ],
   "source": [
    "# 2. JOIN the tables students and courses and COUNT the number of students with the major Computer Science taking the course Python programming.\n",
    "\n",
    "pd.read_sql_query(\"\"\" \n",
    "    SELECT COUNT(\"*\") AS count_students\n",
    "    FROM students\n",
    "    INNER JOIN courses\n",
    "    ON students.student_id = courses.student_id\n",
    "    WHERE students.major = 'Computer Science' AND courses.course_name = 'Python Programming'\n",
    "\"\"\", conn)"
   ]
  },
  {
   "cell_type": "code",
   "execution_count": 109,
   "metadata": {},
   "outputs": [
    {
     "data": {
      "text/html": [
       "<div>\n",
       "<style scoped>\n",
       "    .dataframe tbody tr th:only-of-type {\n",
       "        vertical-align: middle;\n",
       "    }\n",
       "\n",
       "    .dataframe tbody tr th {\n",
       "        vertical-align: top;\n",
       "    }\n",
       "\n",
       "    .dataframe thead th {\n",
       "        text-align: right;\n",
       "    }\n",
       "</style>\n",
       "<table border=\"1\" class=\"dataframe\">\n",
       "  <thead>\n",
       "    <tr style=\"text-align: right;\">\n",
       "      <th></th>\n",
       "      <th>name</th>\n",
       "      <th>major</th>\n",
       "      <th>GPA</th>\n",
       "      <th>course_name</th>\n",
       "      <th>grade</th>\n",
       "    </tr>\n",
       "  </thead>\n",
       "  <tbody>\n",
       "    <tr>\n",
       "      <th>0</th>\n",
       "      <td>John</td>\n",
       "      <td>Computer Science</td>\n",
       "      <td>3.5</td>\n",
       "      <td>Python Programming</td>\n",
       "      <td>A</td>\n",
       "    </tr>\n",
       "    <tr>\n",
       "      <th>1</th>\n",
       "      <td>Jane</td>\n",
       "      <td>Physics</td>\n",
       "      <td>3.8</td>\n",
       "      <td>Data Structures</td>\n",
       "      <td>B</td>\n",
       "    </tr>\n",
       "    <tr>\n",
       "      <th>2</th>\n",
       "      <td>Bob</td>\n",
       "      <td>Engineering</td>\n",
       "      <td>3.0</td>\n",
       "      <td>Database Systems</td>\n",
       "      <td>B</td>\n",
       "    </tr>\n",
       "    <tr>\n",
       "      <th>3</th>\n",
       "      <td>Samantha</td>\n",
       "      <td>Physics</td>\n",
       "      <td>3.9</td>\n",
       "      <td>Python Programming</td>\n",
       "      <td>A</td>\n",
       "    </tr>\n",
       "    <tr>\n",
       "      <th>4</th>\n",
       "      <td>Jessica</td>\n",
       "      <td>Engineering</td>\n",
       "      <td>3.8</td>\n",
       "      <td>Database Systems</td>\n",
       "      <td>A</td>\n",
       "    </tr>\n",
       "    <tr>\n",
       "      <th>5</th>\n",
       "      <td>Jacob</td>\n",
       "      <td>Physics</td>\n",
       "      <td>3.4</td>\n",
       "      <td>Quantum Mechanics</td>\n",
       "      <td>A</td>\n",
       "    </tr>\n",
       "  </tbody>\n",
       "</table>\n",
       "</div>"
      ],
      "text/plain": [
       "       name             major  GPA         course_name grade\n",
       "0      John  Computer Science  3.5  Python Programming     A\n",
       "1      Jane           Physics  3.8     Data Structures     B\n",
       "2       Bob       Engineering  3.0    Database Systems     B\n",
       "3  Samantha           Physics  3.9  Python Programming     A\n",
       "4   Jessica       Engineering  3.8    Database Systems     A\n",
       "5     Jacob           Physics  3.4   Quantum Mechanics     A"
      ]
     },
     "execution_count": 109,
     "metadata": {},
     "output_type": "execute_result"
    }
   ],
   "source": [
    "# 3. JOIN the tables students and courses and select the students who have grades higher than \"C\", only show their name, major, gpa, course_name and grade.\n",
    "\n",
    "pd.read_sql_query(\"\"\"\n",
    "SELECT name, major, gpa, course_name, grade\n",
    "FROM students\n",
    "INNER JOIN courses\n",
    "ON students.student_id = courses.student_id\n",
    "WHERE grade < 'C'\n",
    "\"\"\", conn)"
   ]
  },
  {
   "cell_type": "code",
   "execution_count": null,
   "metadata": {},
   "outputs": [],
   "source": []
  },
  {
   "cell_type": "markdown",
   "metadata": {},
   "source": [
    "## Q3 Aggregate functions, numerical logic and grouping"
   ]
  },
  {
   "cell_type": "code",
   "execution_count": 108,
   "metadata": {},
   "outputs": [
    {
     "data": {
      "text/html": [
       "<div>\n",
       "<style scoped>\n",
       "    .dataframe tbody tr th:only-of-type {\n",
       "        vertical-align: middle;\n",
       "    }\n",
       "\n",
       "    .dataframe tbody tr th {\n",
       "        vertical-align: top;\n",
       "    }\n",
       "\n",
       "    .dataframe thead th {\n",
       "        text-align: right;\n",
       "    }\n",
       "</style>\n",
       "<table border=\"1\" class=\"dataframe\">\n",
       "  <thead>\n",
       "    <tr style=\"text-align: right;\">\n",
       "      <th></th>\n",
       "      <th>avg_gpa</th>\n",
       "    </tr>\n",
       "  </thead>\n",
       "  <tbody>\n",
       "    <tr>\n",
       "      <th>0</th>\n",
       "      <td>3.58</td>\n",
       "    </tr>\n",
       "  </tbody>\n",
       "</table>\n",
       "</div>"
      ],
      "text/plain": [
       "   avg_gpa\n",
       "0     3.58"
      ]
     },
     "execution_count": 108,
     "metadata": {},
     "output_type": "execute_result"
    }
   ],
   "source": [
    "# 1. Find the average gpa of all students.\n",
    "\n",
    "pd.read_sql_query(\"\"\"\n",
    "                SELECT AVG(gpa) AS avg_gpa\n",
    "                FROM students\n",
    "               \"\"\", conn)"
   ]
  },
  {
   "cell_type": "code",
   "execution_count": 106,
   "metadata": {},
   "outputs": [
    {
     "data": {
      "text/html": [
       "<div>\n",
       "<style scoped>\n",
       "    .dataframe tbody tr th:only-of-type {\n",
       "        vertical-align: middle;\n",
       "    }\n",
       "\n",
       "    .dataframe tbody tr th {\n",
       "        vertical-align: top;\n",
       "    }\n",
       "\n",
       "    .dataframe thead th {\n",
       "        text-align: right;\n",
       "    }\n",
       "</style>\n",
       "<table border=\"1\" class=\"dataframe\">\n",
       "  <thead>\n",
       "    <tr style=\"text-align: right;\">\n",
       "      <th></th>\n",
       "      <th>student_id</th>\n",
       "      <th>major</th>\n",
       "      <th>max_gpa</th>\n",
       "    </tr>\n",
       "  </thead>\n",
       "  <tbody>\n",
       "    <tr>\n",
       "      <th>0</th>\n",
       "      <td>4</td>\n",
       "      <td>Physics</td>\n",
       "      <td>3.9</td>\n",
       "    </tr>\n",
       "  </tbody>\n",
       "</table>\n",
       "</div>"
      ],
      "text/plain": [
       "   student_id    major  max_gpa\n",
       "0           4  Physics      3.9"
      ]
     },
     "execution_count": 106,
     "metadata": {},
     "output_type": "execute_result"
    }
   ],
   "source": [
    "# 2. SELECT the student with the maximum gpa, display only their student_id, major and gpa\n",
    "\n",
    "pd.read_sql_query(\"\"\"\n",
    "                SELECT student_id, major, MAX(gpa) AS max_gpa\n",
    "                FROM students\n",
    "               \"\"\", conn)"
   ]
  },
  {
   "cell_type": "code",
   "execution_count": 105,
   "metadata": {},
   "outputs": [
    {
     "data": {
      "text/html": [
       "<div>\n",
       "<style scoped>\n",
       "    .dataframe tbody tr th:only-of-type {\n",
       "        vertical-align: middle;\n",
       "    }\n",
       "\n",
       "    .dataframe tbody tr th {\n",
       "        vertical-align: top;\n",
       "    }\n",
       "\n",
       "    .dataframe thead th {\n",
       "        text-align: right;\n",
       "    }\n",
       "</style>\n",
       "<table border=\"1\" class=\"dataframe\">\n",
       "  <thead>\n",
       "    <tr style=\"text-align: right;\">\n",
       "      <th></th>\n",
       "      <th>student_id</th>\n",
       "      <th>major</th>\n",
       "      <th>min_gpa</th>\n",
       "    </tr>\n",
       "  </thead>\n",
       "  <tbody>\n",
       "    <tr>\n",
       "      <th>0</th>\n",
       "      <td>3</td>\n",
       "      <td>Engineering</td>\n",
       "      <td>3.0</td>\n",
       "    </tr>\n",
       "  </tbody>\n",
       "</table>\n",
       "</div>"
      ],
      "text/plain": [
       "   student_id        major  min_gpa\n",
       "0           3  Engineering      3.0"
      ]
     },
     "execution_count": 105,
     "metadata": {},
     "output_type": "execute_result"
    }
   ],
   "source": [
    "# 3. SELECT the student with the minimum gpa, display only their student_id, major and gpa\n",
    "\n",
    "pd.read_sql_query(\"\"\"\n",
    "                SELECT student_id, major, MIN(gpa) AS min_gpa\n",
    "                FROM students\n",
    "               \"\"\", conn)"
   ]
  },
  {
   "cell_type": "code",
   "execution_count": 103,
   "metadata": {},
   "outputs": [
    {
     "data": {
      "text/html": [
       "<div>\n",
       "<style scoped>\n",
       "    .dataframe tbody tr th:only-of-type {\n",
       "        vertical-align: middle;\n",
       "    }\n",
       "\n",
       "    .dataframe tbody tr th {\n",
       "        vertical-align: top;\n",
       "    }\n",
       "\n",
       "    .dataframe thead th {\n",
       "        text-align: right;\n",
       "    }\n",
       "</style>\n",
       "<table border=\"1\" class=\"dataframe\">\n",
       "  <thead>\n",
       "    <tr style=\"text-align: right;\">\n",
       "      <th></th>\n",
       "      <th>student_id</th>\n",
       "      <th>major</th>\n",
       "      <th>GPA</th>\n",
       "    </tr>\n",
       "  </thead>\n",
       "  <tbody>\n",
       "    <tr>\n",
       "      <th>0</th>\n",
       "      <td>2</td>\n",
       "      <td>Physics</td>\n",
       "      <td>3.8</td>\n",
       "    </tr>\n",
       "    <tr>\n",
       "      <th>1</th>\n",
       "      <td>4</td>\n",
       "      <td>Physics</td>\n",
       "      <td>3.9</td>\n",
       "    </tr>\n",
       "    <tr>\n",
       "      <th>2</th>\n",
       "      <td>5</td>\n",
       "      <td>Engineering</td>\n",
       "      <td>3.7</td>\n",
       "    </tr>\n",
       "    <tr>\n",
       "      <th>3</th>\n",
       "      <td>8</td>\n",
       "      <td>Engineering</td>\n",
       "      <td>3.8</td>\n",
       "    </tr>\n",
       "    <tr>\n",
       "      <th>4</th>\n",
       "      <td>10</td>\n",
       "      <td>Physics</td>\n",
       "      <td>3.9</td>\n",
       "    </tr>\n",
       "  </tbody>\n",
       "</table>\n",
       "</div>"
      ],
      "text/plain": [
       "   student_id        major  GPA\n",
       "0           2      Physics  3.8\n",
       "1           4      Physics  3.9\n",
       "2           5  Engineering  3.7\n",
       "3           8  Engineering  3.8\n",
       "4          10      Physics  3.9"
      ]
     },
     "execution_count": 103,
     "metadata": {},
     "output_type": "execute_result"
    }
   ],
   "source": [
    "# 4. SELECT the students with a gpa greater than 3.6 in the majors of \"Physics\" and \"Engineering\", display only their student_id, major and gpa\n",
    "\n",
    "pd.read_sql_query(\"\"\"\n",
    "                SELECT student_id, major, gpa\n",
    "                FROM students\n",
    "                WHERE gpa > 3.6 AND major IN ('Physics', 'Engineering')\n",
    "               \"\"\", conn)"
   ]
  },
  {
   "cell_type": "code",
   "execution_count": 102,
   "metadata": {},
   "outputs": [
    {
     "data": {
      "text/html": [
       "<div>\n",
       "<style scoped>\n",
       "    .dataframe tbody tr th:only-of-type {\n",
       "        vertical-align: middle;\n",
       "    }\n",
       "\n",
       "    .dataframe tbody tr th {\n",
       "        vertical-align: top;\n",
       "    }\n",
       "\n",
       "    .dataframe thead th {\n",
       "        text-align: right;\n",
       "    }\n",
       "</style>\n",
       "<table border=\"1\" class=\"dataframe\">\n",
       "  <thead>\n",
       "    <tr style=\"text-align: right;\">\n",
       "      <th></th>\n",
       "      <th>major</th>\n",
       "      <th>avg_gpa</th>\n",
       "    </tr>\n",
       "  </thead>\n",
       "  <tbody>\n",
       "    <tr>\n",
       "      <th>0</th>\n",
       "      <td>Computer Science</td>\n",
       "      <td>3.433333</td>\n",
       "    </tr>\n",
       "    <tr>\n",
       "      <th>1</th>\n",
       "      <td>Engineering</td>\n",
       "      <td>3.500000</td>\n",
       "    </tr>\n",
       "    <tr>\n",
       "      <th>2</th>\n",
       "      <td>Physics</td>\n",
       "      <td>3.750000</td>\n",
       "    </tr>\n",
       "  </tbody>\n",
       "</table>\n",
       "</div>"
      ],
      "text/plain": [
       "              major   avg_gpa\n",
       "0  Computer Science  3.433333\n",
       "1       Engineering  3.500000\n",
       "2           Physics  3.750000"
      ]
     },
     "execution_count": 102,
     "metadata": {},
     "output_type": "execute_result"
    }
   ],
   "source": [
    "# 5. Group the students by their major and retrieve the average grade of each major.\n",
    "\n",
    "pd.read_sql_query(\"\"\"\n",
    "SELECT major, AVG(gpa) AS avg_gpa\n",
    "FROM students\n",
    "GROUP BY major\n",
    "\"\"\", conn)"
   ]
  },
  {
   "cell_type": "code",
   "execution_count": 100,
   "metadata": {},
   "outputs": [
    {
     "data": {
      "text/html": [
       "<div>\n",
       "<style scoped>\n",
       "    .dataframe tbody tr th:only-of-type {\n",
       "        vertical-align: middle;\n",
       "    }\n",
       "\n",
       "    .dataframe tbody tr th {\n",
       "        vertical-align: top;\n",
       "    }\n",
       "\n",
       "    .dataframe thead th {\n",
       "        text-align: right;\n",
       "    }\n",
       "</style>\n",
       "<table border=\"1\" class=\"dataframe\">\n",
       "  <thead>\n",
       "    <tr style=\"text-align: right;\">\n",
       "      <th></th>\n",
       "      <th>student_id</th>\n",
       "      <th>name</th>\n",
       "      <th>major</th>\n",
       "      <th>GPA</th>\n",
       "      <th>enrollment_date</th>\n",
       "      <th>no</th>\n",
       "    </tr>\n",
       "  </thead>\n",
       "  <tbody>\n",
       "    <tr>\n",
       "      <th>0</th>\n",
       "      <td>6</td>\n",
       "      <td>Emily</td>\n",
       "      <td>Computer Science</td>\n",
       "      <td>3.6</td>\n",
       "      <td>01-06-2022</td>\n",
       "      <td>1</td>\n",
       "    </tr>\n",
       "    <tr>\n",
       "      <th>1</th>\n",
       "      <td>1</td>\n",
       "      <td>John</td>\n",
       "      <td>Computer Science</td>\n",
       "      <td>3.5</td>\n",
       "      <td>01-01-2022</td>\n",
       "      <td>2</td>\n",
       "    </tr>\n",
       "    <tr>\n",
       "      <th>2</th>\n",
       "      <td>8</td>\n",
       "      <td>Jessica</td>\n",
       "      <td>Engineering</td>\n",
       "      <td>3.8</td>\n",
       "      <td>01-08-2022</td>\n",
       "      <td>1</td>\n",
       "    </tr>\n",
       "    <tr>\n",
       "      <th>3</th>\n",
       "      <td>5</td>\n",
       "      <td>James</td>\n",
       "      <td>Engineering</td>\n",
       "      <td>3.7</td>\n",
       "      <td>01-05-2022</td>\n",
       "      <td>2</td>\n",
       "    </tr>\n",
       "    <tr>\n",
       "      <th>4</th>\n",
       "      <td>4</td>\n",
       "      <td>Samantha</td>\n",
       "      <td>Physics</td>\n",
       "      <td>3.9</td>\n",
       "      <td>01-04-2022</td>\n",
       "      <td>1</td>\n",
       "    </tr>\n",
       "    <tr>\n",
       "      <th>5</th>\n",
       "      <td>10</td>\n",
       "      <td>Ashley</td>\n",
       "      <td>Physics</td>\n",
       "      <td>3.9</td>\n",
       "      <td>01-10-2022</td>\n",
       "      <td>2</td>\n",
       "    </tr>\n",
       "  </tbody>\n",
       "</table>\n",
       "</div>"
      ],
      "text/plain": [
       "   student_id      name             major  GPA enrollment_date  no\n",
       "0           6     Emily  Computer Science  3.6      01-06-2022   1\n",
       "1           1      John  Computer Science  3.5      01-01-2022   2\n",
       "2           8   Jessica       Engineering  3.8      01-08-2022   1\n",
       "3           5     James       Engineering  3.7      01-05-2022   2\n",
       "4           4  Samantha           Physics  3.9      01-04-2022   1\n",
       "5          10    Ashley           Physics  3.9      01-10-2022   2"
      ]
     },
     "execution_count": 100,
     "metadata": {},
     "output_type": "execute_result"
    }
   ],
   "source": [
    "# 6. SELECT the top 2 students with the highest GPA in each major and order the results by major in ascending order, then by GPA in descending order\n",
    "\n",
    "pd.read_sql_query(\"\"\"\n",
    "                SELECT * FROM (\n",
    "                SELECT *, ROW_NUMBER() OVER (PARTITION BY major \n",
    "                ORDER BY major, gpa DESC) AS no\n",
    "                FROM students\n",
    "                )RNK\n",
    "                WHERE no <=2\n",
    "               \"\"\", conn)"
   ]
  },
  {
   "cell_type": "code",
   "execution_count": null,
   "metadata": {},
   "outputs": [],
   "source": []
  }
 ],
 "metadata": {
  "kernelspec": {
   "display_name": "Python 3",
   "language": "python",
   "name": "python3"
  },
  "language_info": {
   "codemirror_mode": {
    "name": "ipython",
    "version": 3
   },
   "file_extension": ".py",
   "mimetype": "text/x-python",
   "name": "python",
   "nbconvert_exporter": "python",
   "pygments_lexer": "ipython3",
   "version": "3.7.6"
  }
 },
 "nbformat": 4,
 "nbformat_minor": 5
}
